{
  "nbformat": 4,
  "nbformat_minor": 0,
  "metadata": {
    "colab": {
      "provenance": [],
      "include_colab_link": true
    },
    "kernelspec": {
      "name": "python3",
      "display_name": "Python 3"
    },
    "language_info": {
      "name": "python"
    },
    "accelerator": "GPU"
  },
  "cells": [
    {
      "cell_type": "markdown",
      "metadata": {
        "id": "view-in-github",
        "colab_type": "text"
      },
      "source": [
        "<a href=\"https://colab.research.google.com/github/Artorias1469/Neural_networks_1/blob/main/%D0%92%D0%B2%D0%B5%D0%B4%D0%B5%D0%BD%D0%B8%D0%B5_%D0%B2_%D0%BD%D0%B5%D0%B9%D1%80%D0%BE%D0%BD%D0%BD%D1%8B%D0%B5_%D1%81%D0%B5%D1%82%D0%B8_%D0%9B%D0%B8%D0%BD%D0%B5%D0%B9%D0%BD%D1%8B%D0%B9_%D1%81%D0%BB%D0%BE%D0%B9_(Dense)_%D0%94%D0%97_Lite.ipynb\" target=\"_parent\"><img src=\"https://colab.research.google.com/assets/colab-badge.svg\" alt=\"Open In Colab\"/></a>"
      ]
    },
    {
      "cell_type": "markdown",
      "metadata": {
        "id": "d_qXycKuUA51"
      },
      "source": [
        "### Задание"
      ]
    },
    {
      "cell_type": "markdown",
      "metadata": {
        "id": "aUMmCXubUHEb"
      },
      "source": [
        "Создайте систему компьютерного зрения, которая будет определять тип геометрической фигуры. Используя подготовленную базу и шаблон ноутбука проведите серию экспериментов по перебору гиперпараметров нейронной сети, распознающей три категории изображений (треугольник, круг, квадрат).\n",
        "\n",
        "1. Поменяйте количество нейронов в сети, используя следующие значения:\n",
        "\n",
        "- один слой 10 нейронов\n",
        "- один слой 100 нейронов\n",
        "- один слой 5000 нейронов.\n",
        "\n",
        "2. Поменяйте активационную функцию в скрытых слоях с `relu` на `linear`.\n",
        "3. Поменяйте размеры batch_size:\n",
        "- 10\n",
        "- 100\n",
        "- 1000\n",
        "\n",
        "4. Выведите на экран получившиеся точности.\n",
        "\n",
        "Всего должно получиться 18 комбинаций указанных параметров.\n",
        "\n",
        "Создайте сравнительную таблицу по результатам проведенных тестов."
      ]
    },
    {
      "cell_type": "code",
      "metadata": {
        "id": "2zDFM0apy8-R"
      },
      "source": [
        "# Подключение класса для создания нейронной сети прямого распространения\n",
        "from tensorflow.keras.models import Sequential\n",
        "# Подключение класса для создания полносвязного слоя\n",
        "from tensorflow.keras.layers import Dense\n",
        "# Подключение оптимизатора\n",
        "from tensorflow.keras.optimizers import Adam\n",
        "# Подключение утилит для to_categorical\n",
        "from tensorflow.keras import utils\n",
        "# Подключение библиотеки для загрузки изображений\n",
        "from tensorflow.keras.preprocessing import image\n",
        "# Подключение библиотеки для работы с массивами\n",
        "import numpy as np\n",
        "# Подключение библиотек для отрисовки изображений\n",
        "import matplotlib.pyplot as plt\n",
        "# Подключение модуля для работы с файлами\n",
        "import os\n",
        "# Вывод изображения в ноутбуке, а не в консоли или файле\n",
        "%matplotlib inline"
      ],
      "execution_count": 1,
      "outputs": []
    },
    {
      "cell_type": "code",
      "metadata": {
        "id": "yK5nGKwvcXKD",
        "colab": {
          "base_uri": "https://localhost:8080/",
          "height": 35
        },
        "outputId": "7c7371cc-6922-4396-a350-f9e5e01f7310"
      },
      "source": [
        "# Загрузка датасета из облака\n",
        "import gdown\n",
        "gdown.download('https://storage.yandexcloud.net/aiueducation/Content/base/l3/hw_light.zip', None, quiet=True)"
      ],
      "execution_count": 2,
      "outputs": [
        {
          "output_type": "execute_result",
          "data": {
            "text/plain": [
              "'hw_light.zip'"
            ],
            "application/vnd.google.colaboratory.intrinsic+json": {
              "type": "string"
            }
          },
          "metadata": {},
          "execution_count": 2
        }
      ]
    },
    {
      "cell_type": "code",
      "metadata": {
        "id": "VCcXAah-y1Uy"
      },
      "source": [
        "# Распаковываем архив hw_light.zip в папку hw_light\n",
        "!unzip -q hw_light.zip"
      ],
      "execution_count": 3,
      "outputs": []
    },
    {
      "cell_type": "code",
      "metadata": {
        "colab": {
          "base_uri": "https://localhost:8080/"
        },
        "id": "6Hp0WpKAzEji",
        "outputId": "2ad0f5f5-6e67-4574-dae3-1f6166129911"
      },
      "source": [
        "# Путь к директории с базой\n",
        "base_dir = '/content/hw_light'\n",
        "# Создание пустого списка для загрузки изображений обучающей выборки\n",
        "x_train = []\n",
        "# Создание списка для меток классов\n",
        "y_train = []\n",
        "# Задание высоты и ширины загружаемых изображений\n",
        "img_height = 20\n",
        "img_width = 20\n",
        "# Перебор папок в директории базы\n",
        "for patch in os.listdir(base_dir):\n",
        "    # Перебор файлов в папках\n",
        "    for img in os.listdir(base_dir + '/' + patch):\n",
        "        # Добавление в список изображений текущей картинки\n",
        "        x_train.append(image.img_to_array(image.load_img(base_dir + '/' + patch + '/' + img,\n",
        "                                                    target_size=(img_height, img_width),\n",
        "                                                    color_mode='grayscale')))\n",
        "        # Добавление в массив меток, соответствующих классам\n",
        "        if patch == '0':\n",
        "            y_train.append(0)\n",
        "        elif patch == '3':\n",
        "            y_train.append(1)\n",
        "        else:\n",
        "            y_train.append(2)\n",
        "\n",
        "# Преобразование в numpy-массив загруженных изображений и меток классов\n",
        "x_train = np.array(x_train)\n",
        "y_train = np.array(y_train)\n",
        "# Вывод размерностей\n",
        "print('Размер массива x_train', x_train.shape)\n",
        "print('Размер массива y_train', y_train.shape)"
      ],
      "execution_count": 4,
      "outputs": [
        {
          "output_type": "stream",
          "name": "stdout",
          "text": [
            "Размер массива x_train (302, 20, 20, 1)\n",
            "Размер массива y_train (302,)\n"
          ]
        }
      ]
    },
    {
      "cell_type": "code",
      "metadata": {
        "id": "b9_LIKE_zYjf",
        "colab": {
          "base_uri": "https://localhost:8080/"
        },
        "outputId": "932cc7d3-b16a-466e-dbef-77b86c2765e0"
      },
      "source": [
        "import tensorflow as tf\n",
        "from tensorflow.keras.models import Sequential\n",
        "from tensorflow.keras.layers import Dense, Flatten\n",
        "from tensorflow.keras.optimizers import Adam\n",
        "from tensorflow.keras.utils import to_categorical\n",
        "import numpy as np\n",
        "import pandas as pd\n",
        "\n",
        "x_train = x_train / 255.0\n",
        "y_train = to_categorical(y_train, 3)\n",
        "\n",
        "neurons_list = [10, 100, 5000]\n",
        "activations = ['relu', 'linear']\n",
        "batch_sizes = [10, 100, 1000]\n",
        "\n",
        "results = []\n",
        "\n",
        "for neurons in neurons_list:\n",
        "    for activation in activations:\n",
        "        for batch_size in batch_sizes:\n",
        "            model = Sequential([\n",
        "                Flatten(input_shape=(20, 20, 1)),\n",
        "                Dense(neurons, activation=activation),\n",
        "                Dense(3, activation='softmax')\n",
        "            ])\n",
        "\n",
        "            model.compile(optimizer=Adam(), loss='categorical_crossentropy', metrics=['accuracy'])\n",
        "\n",
        "            history = model.fit(x_train, y_train, epochs=10, batch_size=batch_size, verbose=0)\n",
        "\n",
        "            accuracy = history.history['accuracy'][-1]\n",
        "\n",
        "            results.append({'Neurons': neurons, 'Activation': activation, 'Batch Size': batch_size, 'Accuracy': accuracy})\n",
        "\n",
        "            print(f'Neurons: {neurons}, Activation: {activation}, Batch Size: {batch_size}, Accuracy: {accuracy:.4f}')\n",
        "\n",
        "df_results = pd.DataFrame(results)\n",
        "print(df_results)\n"
      ],
      "execution_count": 5,
      "outputs": [
        {
          "output_type": "stream",
          "name": "stderr",
          "text": [
            "/usr/local/lib/python3.11/dist-packages/keras/src/layers/reshaping/flatten.py:37: UserWarning: Do not pass an `input_shape`/`input_dim` argument to a layer. When using Sequential models, prefer using an `Input(shape)` object as the first layer in the model instead.\n",
            "  super().__init__(**kwargs)\n"
          ]
        },
        {
          "output_type": "stream",
          "name": "stdout",
          "text": [
            "Neurons: 10, Activation: relu, Batch Size: 10, Accuracy: 0.8344\n",
            "Neurons: 10, Activation: relu, Batch Size: 100, Accuracy: 0.6556\n",
            "Neurons: 10, Activation: relu, Batch Size: 1000, Accuracy: 0.4106\n",
            "Neurons: 10, Activation: linear, Batch Size: 10, Accuracy: 0.7914\n",
            "Neurons: 10, Activation: linear, Batch Size: 100, Accuracy: 0.5331\n",
            "Neurons: 10, Activation: linear, Batch Size: 1000, Accuracy: 0.4702\n",
            "Neurons: 100, Activation: relu, Batch Size: 10, Accuracy: 0.8974\n",
            "Neurons: 100, Activation: relu, Batch Size: 100, Accuracy: 0.6589\n",
            "Neurons: 100, Activation: relu, Batch Size: 1000, Accuracy: 0.6623\n",
            "Neurons: 100, Activation: linear, Batch Size: 10, Accuracy: 0.8245\n",
            "Neurons: 100, Activation: linear, Batch Size: 100, Accuracy: 0.6589\n",
            "Neurons: 100, Activation: linear, Batch Size: 1000, Accuracy: 0.5397\n",
            "Neurons: 5000, Activation: relu, Batch Size: 10, Accuracy: 0.8742\n",
            "Neurons: 5000, Activation: relu, Batch Size: 100, Accuracy: 0.7748\n",
            "Neurons: 5000, Activation: relu, Batch Size: 1000, Accuracy: 0.5894\n",
            "Neurons: 5000, Activation: linear, Batch Size: 10, Accuracy: 0.7119\n",
            "Neurons: 5000, Activation: linear, Batch Size: 100, Accuracy: 0.6722\n",
            "Neurons: 5000, Activation: linear, Batch Size: 1000, Accuracy: 0.5993\n",
            "    Neurons Activation  Batch Size  Accuracy\n",
            "0        10       relu          10  0.834437\n",
            "1        10       relu         100  0.655629\n",
            "2        10       relu        1000  0.410596\n",
            "3        10     linear          10  0.791391\n",
            "4        10     linear         100  0.533113\n",
            "5        10     linear        1000  0.470199\n",
            "6       100       relu          10  0.897351\n",
            "7       100       relu         100  0.658940\n",
            "8       100       relu        1000  0.662252\n",
            "9       100     linear          10  0.824503\n",
            "10      100     linear         100  0.658940\n",
            "11      100     linear        1000  0.539735\n",
            "12     5000       relu          10  0.874172\n",
            "13     5000       relu         100  0.774834\n",
            "14     5000       relu        1000  0.589404\n",
            "15     5000     linear          10  0.711921\n",
            "16     5000     linear         100  0.672185\n",
            "17     5000     linear        1000  0.599338\n"
          ]
        }
      ]
    }
  ]
}